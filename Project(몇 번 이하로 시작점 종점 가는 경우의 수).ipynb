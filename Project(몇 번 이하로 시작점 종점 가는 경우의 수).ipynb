{
 "cells": [
  {
   "cell_type": "code",
   "execution_count": 1,
   "metadata": {},
   "outputs": [],
   "source": []
  },
  {
   "cell_type": "code",
   "execution_count": 2,
   "metadata": {},
   "outputs": [],
   "source": [
    "import numpy as np\n",
    "import copy\n",
    "\n",
    "class Queue : \n",
    "    def __init__(self):\n",
    "        self.items = []\n",
    "    def enqueue(self, item) :\n",
    "        self.items.insert(0,item)\n",
    "    def dequeue(self) :\n",
    "        return self.items.pop()\n",
    "    def isEmpty(self) :\n",
    "        return self.items == []\n",
    "    def size(self) :\n",
    "        return len(self.items)\n",
    "    \n",
    "class F :\n",
    "    def __init__(self, num, now, data, sdata) :\n",
    "        self.num = num\n",
    "        self.now = now\n",
    "        self.data = data\n",
    "        self.sdata = sdata\n",
    "        \n",
    "def new(data,now,i) :\n",
    "    data[now][i] = 0\n",
    "    data[i][now] = 0\n",
    "    return data\n",
    "\n",
    "n = int(input())\n",
    "\n",
    "mylist = np.zeros((n,n))\n",
    "\n",
    "m = int(input())\n",
    "\n",
    "for i in range (m) :\n",
    "    p, q = map(int, input().split())\n",
    "    mylist[p][q] += 1\n",
    "    mylist[q][p] += 1\n",
    "    \n",
    "q = Queue()\n",
    "q.enqueue(F(0,0,mylist,mylist))\n",
    "a = F(0,0,mylist,mylist)\n",
    "cnt = 0\n",
    "\n",
    "while(a.num<=5) : # 부등호로 몇 번 이하로 제한\n",
    "    if q.isEmpty() :\n",
    "        break\n",
    "    a = q.dequeue()\n",
    "    if a.now == 4 :\n",
    "        cnt+=1\n",
    "    else :\n",
    "        for i in range(len(a.data[a.now])) :\n",
    "            a.data = copy.deepcopy(a.sdata)\n",
    "            if a.data[a.now][i] == 1 :\n",
    "                q.enqueue(F(a.num+1,i,new(a.data,a.now,i),new(a.data,a.now,i)))\n",
    "                \n",
    "print(cnt)"
   ]
  },
  {
   "cell_type": "code",
   "execution_count": 3,
   "metadata": {},
   "outputs": [],
   "source": []
  },
  {
   "cell_type": "code",
   "execution_count": 4,
   "metadata": {},
   "outputs": [],
   "source": []
  },
  {
   "cell_type": "code",
   "execution_count": null,
   "metadata": {},
   "outputs": [],
   "source": [
    "n = int(input())\n",
    "\n",
    "mylist = np.zeros((n,n))\n",
    "\n",
    "m = int(input())\n",
    "\n",
    "for i in range (m) :\n",
    "    p, q = map(int, input().split())\n",
    "    mylist[p][q] += 1\n",
    "    mylist[q][p] += 1"
   ]
  },
  {
   "cell_type": "code",
   "execution_count": 7,
   "metadata": {},
   "outputs": [],
   "source": [
    "q = Queue()\n",
    "q.enqueue(F(0,0,mylist,mylist))\n",
    "a = F(0,0,mylist,mylist)\n",
    "cnt = 0"
   ]
  },
  {
   "cell_type": "code",
   "execution_count": 8,
   "metadata": {},
   "outputs": [],
   "source": [
    "while(a.num<=5) : # 부등호로 몇 번 이하로 제한\n",
    "    if q.isEmpty() :\n",
    "        break\n",
    "    a = q.dequeue()\n",
    "    if a.now == 4 :\n",
    "        cnt+=1\n",
    "    else :\n",
    "        for i in range(len(a.data[a.now])) :\n",
    "            a.data = copy.deepcopy(a.sdata)\n",
    "            if a.data[a.now][i] == 1 :\n",
    "                q.enqueue(F(a.num+1,i,new(a.data,a.now,i),new(a.data,a.now,i)))"
   ]
  },
  {
   "cell_type": "code",
   "execution_count": 9,
   "metadata": {},
   "outputs": [
    {
     "name": "stdout",
     "output_type": "stream",
     "text": [
      "2\n"
     ]
    }
   ],
   "source": [
    "print(cnt)"
   ]
  },
  {
   "cell_type": "code",
   "execution_count": null,
   "metadata": {},
   "outputs": [],
   "source": []
  }
 ],
 "metadata": {
  "kernelspec": {
   "display_name": "Python 3",
   "language": "python",
   "name": "python3"
  },
  "language_info": {
   "codemirror_mode": {
    "name": "ipython",
    "version": 3
   },
   "file_extension": ".py",
   "mimetype": "text/x-python",
   "name": "python",
   "nbconvert_exporter": "python",
   "pygments_lexer": "ipython3",
   "version": "3.6.4"
  }
 },
 "nbformat": 4,
 "nbformat_minor": 2
}
